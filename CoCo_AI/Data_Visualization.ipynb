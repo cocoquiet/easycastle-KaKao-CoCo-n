{
  "nbformat": 4,
  "nbformat_minor": 0,
  "metadata": {
    "colab": {
      "name": "Untitled14.ipynb",
      "provenance": [],
      "toc_visible": true
    },
    "kernelspec": {
      "name": "python3",
      "display_name": "Python 3"
    },
    "language_info": {
      "name": "python"
    }
  },
  "cells": [
    {
      "cell_type": "markdown",
      "metadata": {
        "id": "MoA8fLK-TjWo"
      },
      "source": [
        "# 순환 신경망으로 욕설을 분류하기 위해 데이터를 분석하기"
      ]
    },
    {
      "cell_type": "markdown",
      "metadata": {
        "id": "-WynFf8BTryP"
      },
      "source": [
        "## 모듈 임포트"
      ]
    },
    {
      "cell_type": "code",
      "metadata": {
        "id": "PNQdk9-6TH9X"
      },
      "source": [
        "import tensorflow as tf\n",
        "from tensorflow.keras.preprocessing.sequence import pad_sequences\n",
        "from tensorflow import keras\n",
        "\n",
        "from sklearn.model_selection import train_test_split\n",
        "from sklearn.preprocessing import OneHotEncoder\n",
        "import pandas as pd\n",
        "import matplotlib.pyplot as plt\n",
        "import numpy as np"
      ],
      "execution_count": null,
      "outputs": []
    },
    {
      "cell_type": "markdown",
      "metadata": {
        "id": "NzuQh8pSWJNs"
      },
      "source": [
        "## 데이터 전처리"
      ]
    },
    {
      "cell_type": "code",
      "metadata": {
        "id": "18I9pE2yAXRS"
      },
      "source": [
        "def split_the_list_original(input_ls : list) -> list:\n",
        "    two_dimensional_paramls = []\n",
        "    for input_string in input_ls:\n",
        "        appendls = list(str(input_string).split())\n",
        "        two_dimensional_paramls.append(appendls)\n",
        "    return two_dimensional_paramls"
      ],
      "execution_count": null,
      "outputs": []
    },
    {
      "cell_type": "code",
      "metadata": {
        "id": "ceZyFs1rAMDI"
      },
      "source": [
        "def return_to_split_list(input_ls : list) -> list:\n",
        "    \"\"\"\n",
        "    문자열로 입력된 리스트를 공백기준으로 자르는 함수입니다.\n",
        "    :param input_ls:\n",
        "    :return:\n",
        "    \"\"\"\n",
        "    two_dimensional_paramls = split_the_list_original(input_ls)\n",
        "    outls = []\n",
        "    for index_string_list in two_dimensional_paramls:\n",
        "        for index_string in index_string_list:\n",
        "            outls.append(str(index_string))\n",
        "    return outls"
      ],
      "execution_count": null,
      "outputs": []
    },
    {
      "cell_type": "code",
      "metadata": {
        "id": "3MYxS5HaAPcP"
      },
      "source": [
        "def one_hot_encoding(input_ls : list) -> list:\n",
        "    \"\"\"\n",
        "    원핫 인코딩을 사용하여 단어를 인코딩\n",
        "    :param input_ls:\n",
        "    :return:\n",
        "    \"\"\"\n",
        "    dict_loop_index = 0\n",
        "    dict_loop = {}\n",
        "    set_input_ls = set(return_to_split_list(input_ls))\n",
        "    for st in set_input_ls:\n",
        "        dict_loop[f\"{st}\"] = dict_loop_index\n",
        "        dict_loop_index += 1\n",
        "    string_ls = split_the_list_original(input_ls)\n",
        "    outls = []\n",
        "    output = []\n",
        "    for i in string_ls:\n",
        "        for j in i:\n",
        "            outls.append(dict_loop[j])\n",
        "        output.append(outls)\n",
        "        outls = []\n",
        "    return output"
      ],
      "execution_count": null,
      "outputs": []
    },
    {
      "cell_type": "code",
      "metadata": {
        "id": "jxmG8qokWIDE"
      },
      "source": [
        "df = pd.read_csv(\"/content/2runo\\'s-swear.csv\")"
      ],
      "execution_count": null,
      "outputs": []
    },
    {
      "cell_type": "code",
      "metadata": {
        "colab": {
          "base_uri": "https://localhost:8080/",
          "height": 204
        },
        "id": "D_8B1gKkYp0Y",
        "outputId": "f7eeeda4-9b61-40c8-d69a-33e259e6050d"
      },
      "source": [
        "df.head()"
      ],
      "execution_count": null,
      "outputs": [
        {
          "output_type": "execute_result",
          "data": {
            "text/html": [
              "<div>\n",
              "<style scoped>\n",
              "    .dataframe tbody tr th:only-of-type {\n",
              "        vertical-align: middle;\n",
              "    }\n",
              "\n",
              "    .dataframe tbody tr th {\n",
              "        vertical-align: top;\n",
              "    }\n",
              "\n",
              "    .dataframe thead th {\n",
              "        text-align: right;\n",
              "    }\n",
              "</style>\n",
              "<table border=\"1\" class=\"dataframe\">\n",
              "  <thead>\n",
              "    <tr style=\"text-align: right;\">\n",
              "      <th></th>\n",
              "      <th>Unnamed: 0</th>\n",
              "      <th>sentence</th>\n",
              "      <th>target</th>\n",
              "    </tr>\n",
              "  </thead>\n",
              "  <tbody>\n",
              "    <tr>\n",
              "      <th>0</th>\n",
              "      <td>0</td>\n",
              "      <td>좌배 까는건 ㅇㅂ</td>\n",
              "      <td>1</td>\n",
              "    </tr>\n",
              "    <tr>\n",
              "      <th>1</th>\n",
              "      <td>1</td>\n",
              "      <td>집에 롱 패딩만 세 개다. 10년 더 입어야지 ㅋㅋ</td>\n",
              "      <td>0</td>\n",
              "    </tr>\n",
              "    <tr>\n",
              "      <th>2</th>\n",
              "      <td>2</td>\n",
              "      <td>개소리야 니가 빨갱이를 옹호하고 드루킹을 ㅇㅇ짓이라고 말못해서 삐진거야 빨갱아</td>\n",
              "      <td>1</td>\n",
              "    </tr>\n",
              "    <tr>\n",
              "      <th>3</th>\n",
              "      <td>3</td>\n",
              "      <td>세탁이라고 봐도 된다</td>\n",
              "      <td>0</td>\n",
              "    </tr>\n",
              "    <tr>\n",
              "      <th>4</th>\n",
              "      <td>4</td>\n",
              "      <td>애새끼가 초딩도 아니고 ㅋㅋㅋㅋ</td>\n",
              "      <td>1</td>\n",
              "    </tr>\n",
              "  </tbody>\n",
              "</table>\n",
              "</div>"
            ],
            "text/plain": [
              "   Unnamed: 0                                      sentence  target\n",
              "0           0                                     좌배 까는건 ㅇㅂ       1\n",
              "1           1                  집에 롱 패딩만 세 개다. 10년 더 입어야지 ㅋㅋ       0\n",
              "2           2   개소리야 니가 빨갱이를 옹호하고 드루킹을 ㅇㅇ짓이라고 말못해서 삐진거야 빨갱아       1\n",
              "3           3                                   세탁이라고 봐도 된다       0\n",
              "4           4                            애새끼가 초딩도 아니고 ㅋㅋㅋㅋ        1"
            ]
          },
          "metadata": {
            "tags": []
          },
          "execution_count": 6
        }
      ]
    },
    {
      "cell_type": "code",
      "metadata": {
        "id": "KQXdhU3MYuf1"
      },
      "source": [
        "sentence = list(df['sentence'])\n",
        "target = list(map(int, list(df['target'])))"
      ],
      "execution_count": null,
      "outputs": []
    },
    {
      "cell_type": "code",
      "metadata": {
        "id": "g1j-dH0ddESt"
      },
      "source": [
        "sentence = one_hot_encoding(sentence)"
      ],
      "execution_count": null,
      "outputs": []
    },
    {
      "cell_type": "code",
      "metadata": {
        "id": "-N_nxQgiAyzr"
      },
      "source": [
        "train_input, val_input, train_target, val_target = train_test_split(\n",
        "    sentence, target, test_size = 0.2, random_state = 42\n",
        ")"
      ],
      "execution_count": null,
      "outputs": []
    },
    {
      "cell_type": "code",
      "metadata": {
        "id": "Lf9Gn3h2A9OR"
      },
      "source": [
        "lengths = np.array([len(x) for x in train_input])"
      ],
      "execution_count": null,
      "outputs": []
    },
    {
      "cell_type": "code",
      "metadata": {
        "colab": {
          "base_uri": "https://localhost:8080/"
        },
        "id": "Xow1Q0B2BaIE",
        "outputId": "e0cc955b-23d1-441e-b8fa-f8caff68ff81"
      },
      "source": [
        "print(np.mean(lengths), np.median(lengths))"
      ],
      "execution_count": null,
      "outputs": [
        {
          "output_type": "stream",
          "text": [
            "7.454506437768241 5.0\n"
          ],
          "name": "stdout"
        }
      ]
    },
    {
      "cell_type": "code",
      "metadata": {
        "colab": {
          "base_uri": "https://localhost:8080/",
          "height": 279
        },
        "id": "s-eLpgU4BjuP",
        "outputId": "6593046e-f1aa-42df-aa35-6f98096120f9"
      },
      "source": [
        "plt.hist(lengths)\n",
        "plt.xlabel('length')\n",
        "plt.ylabel('frequncy')\n",
        "plt.show()"
      ],
      "execution_count": null,
      "outputs": [
        {
          "output_type": "display_data",
          "data": {
            "image/png": "[encoded data removed]",
            "text/plain": [
              "<Figure size 432x288 with 1 Axes>"
            ]
          },
          "metadata": {
            "tags": [],
            "needs_background": "light"
          }
        }
      ]
    }
  ]
}